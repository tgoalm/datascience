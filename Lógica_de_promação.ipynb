{
  "nbformat": 4,
  "nbformat_minor": 0,
  "metadata": {
    "colab": {
      "name": "Lógica de promação.ipynb",
      "provenance": [],
      "collapsed_sections": [
        "IR3NGNtbJbvO",
        "R313OADxJQCb",
        "PONX0TvLY_oq",
        "T8TT_vjoZNgZ",
        "HW2VzvxWbEhg",
        "G1FnYcLQEsjw",
        "8L_2EbfrNen1",
        "ig8zh5uCPwWv",
        "QfyT8cs_S_9c"
      ],
      "authorship_tag": "ABX9TyMjTfRwwcJPfuo3PdWlDj4L",
      "include_colab_link": true
    },
    "kernelspec": {
      "name": "python3",
      "display_name": "Python 3"
    },
    "language_info": {
      "name": "python"
    }
  },
  "cells": [
    {
      "cell_type": "markdown",
      "metadata": {
        "id": "view-in-github",
        "colab_type": "text"
      },
      "source": [
        "<a href=\"https://colab.research.google.com/github/tgoalm/datascience/blob/main/L%C3%B3gica_de_proma%C3%A7%C3%A3o.ipynb\" target=\"_parent\"><img src=\"https://colab.research.google.com/assets/colab-badge.svg\" alt=\"Open In Colab\"/></a>"
      ]
    },
    {
      "cell_type": "markdown",
      "metadata": {
        "id": "IR3NGNtbJbvO"
      },
      "source": [
        "## **Lógica de programação com Python**\n"
      ]
    },
    {
      "cell_type": "code",
      "metadata": {
        "colab": {
          "base_uri": "https://localhost:8080/"
        },
        "id": "Xwr8-NcqJKnb",
        "outputId": "d0d2f54a-5175-4158-b894-2b652153f8db"
      },
      "source": [
        "nome = 'Tiago'\n",
        "idade = '36'\n",
        "print (f'Meu nome é {nome} e minha idade é {idade}.')"
      ],
      "execution_count": null,
      "outputs": [
        {
          "output_type": "stream",
          "name": "stdout",
          "text": [
            "Meu nome é Tiago e minha idade é 36.\n"
          ]
        }
      ]
    },
    {
      "cell_type": "markdown",
      "metadata": {
        "id": "R313OADxJQCb"
      },
      "source": [
        "## **Criando minha primeira função**"
      ]
    },
    {
      "cell_type": "code",
      "metadata": {
        "id": "fQncKElYLerJ"
      },
      "source": [
        "def saudacao():\n",
        "  nome = input('Qual o seu nome? ')\n",
        "  print(f'Olá {nome}! Prazer te conhecer.')"
      ],
      "execution_count": null,
      "outputs": []
    },
    {
      "cell_type": "code",
      "metadata": {
        "colab": {
          "base_uri": "https://localhost:8080/"
        },
        "id": "1DkR2z5fMFVR",
        "outputId": "0f36b7db-daba-4a10-88bc-46a50efebace"
      },
      "source": [
        "saudacao()"
      ],
      "execution_count": null,
      "outputs": [
        {
          "output_type": "stream",
          "name": "stdout",
          "text": [
            "Qual o seu nome? \n",
            "Olá ! Prazer te conhecer.\n"
          ]
        }
      ]
    },
    {
      "cell_type": "code",
      "metadata": {
        "id": "-h4Pm8AdMIXZ"
      },
      "source": [
        "def nome_completo():\n",
        "  primeiro_nome = input('Qual o seu primeiro nome? ')\n",
        "  sobrenome = input('Qual o seu sobrenome? ')\n",
        "  nome_inteiro = primeiro_nome + ' ' + sobrenome\n",
        "  print(nome_inteiro)"
      ],
      "execution_count": null,
      "outputs": []
    },
    {
      "cell_type": "code",
      "metadata": {
        "colab": {
          "base_uri": "https://localhost:8080/"
        },
        "id": "KaJ6LcYNXZD9",
        "outputId": "d970d6f9-be18-4979-ed71-5626f4dc3dcd"
      },
      "source": [
        "nome_completo()"
      ],
      "execution_count": null,
      "outputs": [
        {
          "output_type": "stream",
          "name": "stdout",
          "text": [
            "Qual o seu primeiro nome? \n",
            "Qual o seu sobrenome? \n",
            " \n"
          ]
        }
      ]
    },
    {
      "cell_type": "code",
      "metadata": {
        "id": "uayP8D5kZA-W"
      },
      "source": [
        ""
      ],
      "execution_count": null,
      "outputs": []
    },
    {
      "cell_type": "markdown",
      "metadata": {
        "id": "PONX0TvLY_oq"
      },
      "source": [
        "## **Parâmetros**"
      ]
    },
    {
      "cell_type": "code",
      "metadata": {
        "id": "srXzq_vWXau7"
      },
      "source": [
        "nome = 'João'"
      ],
      "execution_count": null,
      "outputs": []
    },
    {
      "cell_type": "code",
      "metadata": {
        "id": "Wx-DvEA4YdBA"
      },
      "source": [
        "def saudacao_com_parametros(nome_da_pessoa):\n",
        "  print(f'Olá {nome_da_pessoa}')\n"
      ],
      "execution_count": null,
      "outputs": []
    },
    {
      "cell_type": "code",
      "metadata": {
        "colab": {
          "base_uri": "https://localhost:8080/"
        },
        "id": "2_5oIZEBYzMa",
        "outputId": "4f6386e7-4a86-4ab1-b8ed-bfdf240825d3"
      },
      "source": [
        "saudacao_com_parametros(nome)"
      ],
      "execution_count": null,
      "outputs": [
        {
          "output_type": "stream",
          "name": "stdout",
          "text": [
            "Olá João\n"
          ]
        }
      ]
    },
    {
      "cell_type": "code",
      "metadata": {
        "id": "ILt2W4vgY1bS"
      },
      "source": [
        ""
      ],
      "execution_count": null,
      "outputs": []
    },
    {
      "cell_type": "markdown",
      "metadata": {
        "id": "T8TT_vjoZNgZ"
      },
      "source": [
        "## **Condicional**"
      ]
    },
    {
      "cell_type": "code",
      "metadata": {
        "colab": {
          "base_uri": "https://localhost:8080/"
        },
        "id": "FRPx8HaTZRn0",
        "outputId": "44efaafb-92dd-4a99-84f2-57e5516d5c9f"
      },
      "source": [
        "idade = 15\n",
        "def verifica_se_pode_dirigir(idade):\n",
        "  if idade >= 18:\n",
        "    print('Tem permissão para dirigir')\n",
        "  else:\n",
        "    print('Não tem permissão para dirigir')\n",
        "verifica_se_pode_dirigir(idade)"
      ],
      "execution_count": null,
      "outputs": [
        {
          "output_type": "stream",
          "name": "stdout",
          "text": [
            "Não tem permissão para dirigir\n"
          ]
        }
      ]
    },
    {
      "cell_type": "markdown",
      "metadata": {
        "id": "HW2VzvxWbEhg"
      },
      "source": [
        "## **Convertendo tipo para inteiro**"
      ]
    },
    {
      "cell_type": "code",
      "metadata": {
        "colab": {
          "base_uri": "https://localhost:8080/"
        },
        "id": "MjM5OFfZZwpl",
        "outputId": "77453fc0-f353-4ecf-ffa8-933765f8e730"
      },
      "source": [
        "def verifica_se_pode_dirigir_sem_parametros():\n",
        "  idade = input('Qual a sua idade? ')\n",
        "  idade = int(idade)\n",
        "  if idade >= 18:\n",
        "    print('Tem permissão para dirigir')\n",
        "  else:\n",
        "    print('Não tem permissão para dirigir')\n",
        "\n",
        "verifica_se_pode_dirigir_sem_parametros()"
      ],
      "execution_count": null,
      "outputs": [
        {
          "output_type": "stream",
          "name": "stdout",
          "text": [
            "Qual a sua idade? 12\n",
            "Não tem permissão para dirigir\n"
          ]
        }
      ]
    },
    {
      "cell_type": "code",
      "metadata": {
        "colab": {
          "base_uri": "https://localhost:8080/"
        },
        "id": "ODaZG4fUacKe",
        "outputId": "a396a6b2-3f73-415c-bb3e-4903c599ead0"
      },
      "source": [
        "def habilitacao():\n",
        " idade = input('Qual sua idade? ')\n",
        " idade = int(idade)\n",
        " if idade >= 18:\n",
        "   print('Pode tirar habilitação')\n",
        " else:\n",
        "   tempo = 18 - idade\n",
        "   print(f'Calma... espere {tempo} ano(s) para tirar habilitação')\n",
        "\n",
        "habilitacao()"
      ],
      "execution_count": null,
      "outputs": [
        {
          "output_type": "stream",
          "name": "stdout",
          "text": [
            "Qual sua idade? 12\n",
            "Calma... espere 6 ano(s) para tirar habilitação\n"
          ]
        }
      ]
    },
    {
      "cell_type": "code",
      "metadata": {
        "id": "7H5R4lECblVt"
      },
      "source": [
        ""
      ],
      "execution_count": null,
      "outputs": []
    },
    {
      "cell_type": "markdown",
      "metadata": {
        "id": "G1FnYcLQEsjw"
      },
      "source": [
        "## **Lista**"
      ]
    },
    {
      "cell_type": "code",
      "metadata": {
        "colab": {
          "base_uri": "https://localhost:8080/"
        },
        "id": "lM_1wP2DEvbL",
        "outputId": "75c58977-a08a-4cd3-9255-2d251addaa5d"
      },
      "source": [
        "idade = 35\n",
        "type(idade)"
      ],
      "execution_count": null,
      "outputs": [
        {
          "output_type": "execute_result",
          "data": {
            "text/plain": [
              "int"
            ]
          },
          "metadata": {},
          "execution_count": 14
        }
      ]
    },
    {
      "cell_type": "code",
      "metadata": {
        "colab": {
          "base_uri": "https://localhost:8080/"
        },
        "id": "7a8mlmIPEzAh",
        "outputId": "a3649ad6-ed8a-49ed-d024-a9e9bff41474"
      },
      "source": [
        "nome = 'Chico Bento'\n",
        "type(nome)"
      ],
      "execution_count": null,
      "outputs": [
        {
          "output_type": "execute_result",
          "data": {
            "text/plain": [
              "str"
            ]
          },
          "metadata": {},
          "execution_count": 15
        }
      ]
    },
    {
      "cell_type": "code",
      "metadata": {
        "colab": {
          "base_uri": "https://localhost:8080/"
        },
        "id": "IcT_f9q4FGlv",
        "outputId": "338fe32a-fc9b-4948-e124-758af045e1bb"
      },
      "source": [
        "idades = [15, 18, 35, 95]\n",
        "type(idades)"
      ],
      "execution_count": 19,
      "outputs": [
        {
          "output_type": "execute_result",
          "data": {
            "text/plain": [
              "list"
            ]
          },
          "metadata": {},
          "execution_count": 19
        }
      ]
    },
    {
      "cell_type": "code",
      "metadata": {
        "colab": {
          "base_uri": "https://localhost:8080/"
        },
        "id": "Aa87oFVaHGsU",
        "outputId": "d003d909-daf8-4b08-9942-e1ccb022f4c4"
      },
      "source": [
        "idades[2]"
      ],
      "execution_count": 20,
      "outputs": [
        {
          "output_type": "execute_result",
          "data": {
            "text/plain": [
              "35"
            ]
          },
          "metadata": {},
          "execution_count": 20
        }
      ]
    },
    {
      "cell_type": "code",
      "metadata": {
        "id": "cdw49DbeHOiM"
      },
      "source": [
        "idades = [15, 18, 35, 95]\n",
        "#índices  0   1   2   3\n",
        "#         0  -3  -2  -1"
      ],
      "execution_count": 21,
      "outputs": []
    },
    {
      "cell_type": "code",
      "metadata": {
        "colab": {
          "base_uri": "https://localhost:8080/"
        },
        "id": "WfX1Tl9fHWT_",
        "outputId": "f3ffe5ba-b64c-4b31-a763-96a6c8183191"
      },
      "source": [
        "idades[:2]"
      ],
      "execution_count": 22,
      "outputs": [
        {
          "output_type": "execute_result",
          "data": {
            "text/plain": [
              "[15, 18]"
            ]
          },
          "metadata": {},
          "execution_count": 22
        }
      ]
    },
    {
      "cell_type": "code",
      "metadata": {
        "colab": {
          "base_uri": "https://localhost:8080/"
        },
        "id": "AtudPl7OHbDq",
        "outputId": "554a32f8-c3ba-4be9-98ba-0c50a6138593"
      },
      "source": [
        "idades[0:2]"
      ],
      "execution_count": 23,
      "outputs": [
        {
          "output_type": "execute_result",
          "data": {
            "text/plain": [
              "[15, 18]"
            ]
          },
          "metadata": {},
          "execution_count": 23
        }
      ]
    },
    {
      "cell_type": "code",
      "metadata": {
        "colab": {
          "base_uri": "https://localhost:8080/"
        },
        "id": "88embcOKHf8F",
        "outputId": "10157aa2-249d-4384-d01d-8ac2a18e6d6d"
      },
      "source": [
        "idades[0:3]"
      ],
      "execution_count": 24,
      "outputs": [
        {
          "output_type": "execute_result",
          "data": {
            "text/plain": [
              "[15, 18, 35]"
            ]
          },
          "metadata": {},
          "execution_count": 24
        }
      ]
    },
    {
      "cell_type": "code",
      "metadata": {
        "colab": {
          "base_uri": "https://localhost:8080/"
        },
        "id": "MZPMx8RiHjqt",
        "outputId": "27de2ce9-8926-44fe-ad2d-49d0fd530f7f"
      },
      "source": [
        "idades[1:]"
      ],
      "execution_count": 25,
      "outputs": [
        {
          "output_type": "execute_result",
          "data": {
            "text/plain": [
              "[18, 35, 95]"
            ]
          },
          "metadata": {},
          "execution_count": 25
        }
      ]
    },
    {
      "cell_type": "code",
      "metadata": {
        "colab": {
          "base_uri": "https://localhost:8080/"
        },
        "id": "kQFP6OGcHo54",
        "outputId": "28caca18-4a1b-4041-df32-fe877b742b3b"
      },
      "source": [
        "idades[-1]"
      ],
      "execution_count": 26,
      "outputs": [
        {
          "output_type": "execute_result",
          "data": {
            "text/plain": [
              "95"
            ]
          },
          "metadata": {},
          "execution_count": 26
        }
      ]
    },
    {
      "cell_type": "markdown",
      "metadata": {
        "id": "8L_2EbfrNen1"
      },
      "source": [
        "## **Laços e Loops**"
      ]
    },
    {
      "cell_type": "code",
      "metadata": {
        "colab": {
          "base_uri": "https://localhost:8080/"
        },
        "id": "-k9blkRFHuM8",
        "outputId": "2271b6fc-d9d9-4559-b003-23fb0cf8b4ef"
      },
      "source": [
        "idades = [12, 84, 25, 16, 18, 15, 58]\n",
        "\n",
        "#for fora da função\n",
        "def verifica_se_pode_dirigir(idade):\n",
        "  if idade >= 18:\n",
        "    print(f'{idade} anos de idade, tem permissão para dirigir')\n",
        "  else:\n",
        "    print(f'{idade} anos de idade, não tem permissão para dirigir')\n",
        "\n",
        "for idade in idades:\n",
        "  verifica_se_pode_dirigir(idade)\n",
        "  "
      ],
      "execution_count": 29,
      "outputs": [
        {
          "output_type": "stream",
          "name": "stdout",
          "text": [
            "12 anos de idade, não tem permissão para dirigir\n",
            "84 anos de idade, tem permissão para dirigir\n",
            "25 anos de idade, tem permissão para dirigir\n",
            "16 anos de idade, não tem permissão para dirigir\n",
            "18 anos de idade, tem permissão para dirigir\n",
            "15 anos de idade, não tem permissão para dirigir\n",
            "58 anos de idade, tem permissão para dirigir\n"
          ]
        }
      ]
    },
    {
      "cell_type": "code",
      "metadata": {
        "colab": {
          "base_uri": "https://localhost:8080/"
        },
        "id": "kd-wVVHmOu6r",
        "outputId": "8e661627-4440-4b1e-89c5-8bf0b92e5085"
      },
      "source": [
        "def verifica_se_pode_dirigir(idades):\n",
        "  for idade in idades:\n",
        "    if idade >= 18:\n",
        "      print(f'{idade} anos de idade, tem permissão para dirigir')\n",
        "    else:\n",
        "      print(f'{idade} anos de idade, não tem permissão para dirigir')\n",
        "\n",
        "verifica_se_pode_dirigir(idades)"
      ],
      "execution_count": 30,
      "outputs": [
        {
          "output_type": "stream",
          "name": "stdout",
          "text": [
            "12 anos de idade, não tem permissão para dirigir\n",
            "84 anos de idade, tem permissão para dirigir\n",
            "25 anos de idade, tem permissão para dirigir\n",
            "16 anos de idade, não tem permissão para dirigir\n",
            "18 anos de idade, tem permissão para dirigir\n",
            "15 anos de idade, não tem permissão para dirigir\n",
            "58 anos de idade, tem permissão para dirigir\n"
          ]
        }
      ]
    },
    {
      "cell_type": "markdown",
      "metadata": {
        "id": "ig8zh5uCPwWv"
      },
      "source": [
        "## **Booleano**"
      ]
    },
    {
      "cell_type": "code",
      "metadata": {
        "colab": {
          "base_uri": "https://localhost:8080/"
        },
        "id": "-kQy60sCP0yL",
        "outputId": "2a9b8462-1f59-4438-e449-687f0f19d8f3"
      },
      "source": [
        "idade = 18\n",
        "idade >= 18"
      ],
      "execution_count": 32,
      "outputs": [
        {
          "output_type": "execute_result",
          "data": {
            "text/plain": [
              "True"
            ]
          },
          "metadata": {},
          "execution_count": 32
        }
      ]
    },
    {
      "cell_type": "code",
      "metadata": {
        "colab": {
          "base_uri": "https://localhost:8080/"
        },
        "id": "2A-OTkZ7P253",
        "outputId": "d53ca299-06bc-4e4d-c8a2-57964019622f"
      },
      "source": [
        "idade = 15\n",
        "idade >= 18"
      ],
      "execution_count": 33,
      "outputs": [
        {
          "output_type": "execute_result",
          "data": {
            "text/plain": [
              "False"
            ]
          },
          "metadata": {},
          "execution_count": 33
        }
      ]
    },
    {
      "cell_type": "code",
      "metadata": {
        "id": "LwwD1nb3P94C"
      },
      "source": [
        "permissoes = []\n",
        "idades = [20, 14, 40]\n",
        "\n",
        "def verifica_se_pode_dirigir(idades, permissoes):\n",
        "  for idade in idades:\n",
        "    if idade >= 18:\n",
        "      permissoes.append(True)\n",
        "    else:\n",
        "      permissoes.append(False)\n",
        "\n",
        "verifica_se_pode_dirigir(idades, permissoes)"
      ],
      "execution_count": 34,
      "outputs": []
    },
    {
      "cell_type": "code",
      "metadata": {
        "colab": {
          "base_uri": "https://localhost:8080/"
        },
        "id": "iTX7VWY2Qqln",
        "outputId": "337ddea0-b424-4e85-d49e-7fd4f8ad3790"
      },
      "source": [
        "permissoes"
      ],
      "execution_count": 35,
      "outputs": [
        {
          "output_type": "execute_result",
          "data": {
            "text/plain": [
              "[True, False, True]"
            ]
          },
          "metadata": {},
          "execution_count": 35
        }
      ]
    },
    {
      "cell_type": "code",
      "metadata": {
        "colab": {
          "base_uri": "https://localhost:8080/"
        },
        "id": "0uTMHuc3QuHX",
        "outputId": "ffd15ee4-9eb4-4c50-c1f9-75a958f17a6e"
      },
      "source": [
        "for permissao in permissoes:\n",
        "  if permissao == True:\n",
        "    print('Tem permissão para dirigir')\n",
        "  else:\n",
        "    print('Não tem permissão para dirigir')"
      ],
      "execution_count": 36,
      "outputs": [
        {
          "output_type": "stream",
          "name": "stdout",
          "text": [
            "Tem permissão para dirigir\n",
            "Não tem permissão para dirigir\n",
            "Tem permissão para dirigir\n"
          ]
        }
      ]
    },
    {
      "cell_type": "code",
      "metadata": {
        "id": "OeweMFLRRXmP"
      },
      "source": [
        ""
      ],
      "execution_count": null,
      "outputs": []
    },
    {
      "cell_type": "markdown",
      "metadata": {
        "id": "QfyT8cs_S_9c"
      },
      "source": [
        "## **Tipos em uma lista**"
      ]
    },
    {
      "cell_type": "code",
      "metadata": {
        "colab": {
          "base_uri": "https://localhost:8080/"
        },
        "id": "jwHpQivgTC5z",
        "outputId": "5084b653-f4e4-48a7-c6a6-eeb179eee1d7"
      },
      "source": [
        "lista = ['Tiago', 36, True, '18']\n",
        "\n",
        "for elemento in lista:\n",
        "  print(f'o elemento {elemento} é do tipo: ',type(elemento))"
      ],
      "execution_count": 39,
      "outputs": [
        {
          "output_type": "stream",
          "name": "stdout",
          "text": [
            "o elemento Tiago é do tipo:  <class 'str'>\n",
            "o elemento 36 é do tipo:  <class 'int'>\n",
            "o elemento True é do tipo:  <class 'bool'>\n",
            "o elemento 18 é do tipo:  <class 'str'>\n"
          ]
        }
      ]
    },
    {
      "cell_type": "markdown",
      "metadata": {
        "id": "jsuZpMbaUNU6"
      },
      "source": [
        "## **Import**"
      ]
    },
    {
      "cell_type": "code",
      "metadata": {
        "id": "skOK150wUQjV"
      },
      "source": [
        "from random import randrange, seed"
      ],
      "execution_count": 54,
      "outputs": []
    },
    {
      "cell_type": "code",
      "metadata": {
        "id": "3lmrzyj9VfoD"
      },
      "source": [
        "seed(11)"
      ],
      "execution_count": 61,
      "outputs": []
    },
    {
      "cell_type": "code",
      "metadata": {
        "colab": {
          "base_uri": "https://localhost:8080/"
        },
        "id": "YpRY-v_fUZEh",
        "outputId": "aa84d97e-c169-4f91-8e07-2b55b72c39de"
      },
      "source": [
        "randrange(0,11)"
      ],
      "execution_count": 62,
      "outputs": [
        {
          "output_type": "execute_result",
          "data": {
            "text/plain": [
              "7"
            ]
          },
          "metadata": {},
          "execution_count": 62
        }
      ]
    },
    {
      "cell_type": "code",
      "metadata": {
        "colab": {
          "base_uri": "https://localhost:8080/"
        },
        "id": "mBGtHtO1UsAK",
        "outputId": "39ac8109-f276-4db1-d0fd-3458fffcbc72"
      },
      "source": [
        "notas_matematica = []\n",
        "\n",
        "for notas in range(8):\n",
        "  notas_matematica.append(randrange(0,11))\n",
        "\n",
        "print(notas_matematica)\n",
        "len(notas_matematica)"
      ],
      "execution_count": 63,
      "outputs": [
        {
          "output_type": "stream",
          "name": "stdout",
          "text": [
            "[8, 7, 7, 8, 9, 3, 2, 8]\n"
          ]
        },
        {
          "output_type": "execute_result",
          "data": {
            "text/plain": [
              "8"
            ]
          },
          "metadata": {},
          "execution_count": 63
        }
      ]
    },
    {
      "cell_type": "code",
      "metadata": {
        "id": "VG1sMimqU0Ml"
      },
      "source": [
        ""
      ],
      "execution_count": null,
      "outputs": []
    }
  ]
}